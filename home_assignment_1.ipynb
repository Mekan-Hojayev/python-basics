{
 "cells": [
  {
   "cell_type": "markdown",
   "metadata": {},
   "source": [
    "## Task 1: NumPy Linear Algebra"
   ]
  },
  {
   "cell_type": "markdown",
   "metadata": {},
   "source": [
    "### Problem Statement\n",
    "1. Create a 3x3 matrix of random integers between 1 and 20.\n",
    "2. Compute the determinant of the matrix.\n",
    "3. Verify if the matrix is invertible.\n",
    "4. If invertible, calculate the inverse.\n",
    "\n",
    "### Theory\n",
    "The determinant of a square matrix is a scalar value that can be computed from its elements. A matrix is invertible if and only if its determinant is non-zero."
   ]
  },
  {
   "cell_type": "code",
   "execution_count": 1,
   "metadata": {},
   "outputs": [
    {
     "name": "stdout",
     "output_type": "stream",
     "text": [
      "Matrix:\n",
      " [[10 10 12]\n",
      " [ 3 14  4]\n",
      " [12 13 20]]\n",
      "Determinant: 612.0\n",
      "Inverse:\n",
      " [[ 0.37254902 -0.07189542 -0.20915033]\n",
      " [-0.01960784  0.09150327 -0.00653595]\n",
      " [-0.21078431 -0.01633987  0.17973856]]\n"
     ]
    }
   ],
   "source": [
    "import numpy as np\n",
    "\n",
    "# Step 1: Create a random 3x3 matrix\n",
    "matrix = np.random.randint(1, 21, (3, 3))\n",
    "\n",
    "# Step 2: Compute the determinant\n",
    "determinant = np.linalg.det(matrix)\n",
    "print(\"Matrix:\\n\", matrix)\n",
    "print(\"Determinant:\", determinant)\n",
    "\n",
    "# Step 3: Check invertibility\n",
    "if determinant != 0:\n",
    "    # Step 4: Compute the inverse\n",
    "    inverse = np.linalg.inv(matrix)\n",
    "    print(\"Inverse:\\n\", inverse)\n",
    "else:\n",
    "    print(\"The matrix is not invertible.\")\n",
    "\n",
    "### Your Solution (Write your code here)"
   ]
  },
  {
   "cell_type": "markdown",
   "metadata": {},
   "source": [
    "## Task 2: Pandas Data Analysis\n",
    "\n",
    "### Problem Statement\n",
    "1. Read a CSV file containing sales data.\n",
    "2. Group the data by product and compute total sales for each product.\n",
    "3. Find the top 3 products with the highest sales."
   ]
  },
  {
   "cell_type": "code",
   "execution_count": 8,
   "metadata": {},
   "outputs": [],
   "source": [
    "import pandas as pd\n",
    "\n",
    "# Step 1: Read the CSV file\n",
    "data = pd.read_csv('sales-data-sample.csv')\n",
    "\n",
    "# # Step 2: Group by product and calculate total sales\n",
    "# product_sales = data.groupby('Product')['Sales'].sum()\n",
    "\n",
    "# # Step 3: Sort and find the top 3 products\n",
    "# top_products = product_sales.sort_values(ascending=False).head(3)\n",
    "# print(\"Top 3 Products:\\n\", top_products)\n",
    "\n",
    "### Your Solution (Write your code here)"
   ]
  },
  {
   "cell_type": "markdown",
   "metadata": {},
   "source": [
    "## Task 3: Matplotlib Data Visualization"
   ]
  },
  {
   "cell_type": "markdown",
   "metadata": {},
   "source": [
    "### Problem Statement\n",
    "1. Create a line plot of sales trends over time.\n",
    "2. Customize the plot with appropriate labels, title, and gridlines.\n",
    "3. Save the plot as an image."
   ]
  },
  {
   "cell_type": "code",
   "execution_count": 14,
   "metadata": {},
   "outputs": [
    {
     "data": {
      "text/plain": [
       "0       2011-01-08T00:00:00.000Z\n",
       "1       2011-01-09T00:00:00.000Z\n",
       "2       2011-01-09T00:00:00.000Z\n",
       "3       2011-01-09T00:00:00.000Z\n",
       "4       2011-01-13T00:00:00.000Z\n",
       "                  ...           \n",
       "9989    2015-01-04T00:00:00.000Z\n",
       "9990    2015-01-04T00:00:00.000Z\n",
       "9991    2015-01-04T00:00:00.000Z\n",
       "9992    2015-01-04T00:00:00.000Z\n",
       "9993    2015-01-04T00:00:00.000Z\n",
       "Name: ShipDate, Length: 9994, dtype: object"
      ]
     },
     "execution_count": 14,
     "metadata": {},
     "output_type": "execute_result"
    }
   ],
   "source": [
    "data['ShipDate']"
   ]
  },
  {
   "cell_type": "code",
   "execution_count": 15,
   "metadata": {},
   "outputs": [],
   "source": [
    "import matplotlib.pyplot as plt\n",
    "import pandas as pd\n",
    "\n",
    "# Step 1: Generate data\n",
    "# (Use a sample DataFrame if no CSV is available)\n",
    "# data = pd.read_csv('sales-data-sample.csv')\n",
    "\n",
    "# # Step 2: Plot sales trends\n",
    "# data['Date'] = pd.to_datetime(data['Date'])\n",
    "# data = data.sort_values('Date')\n",
    "\n",
    "# plt.figure(figsize=(10, 6))\n",
    "# plt.plot(data['Date'], data['Sales'], label='Sales Trend', color='blue')\n",
    "# plt.xlabel('Date')\n",
    "# plt.ylabel('Sales')\n",
    "# plt.title('Sales Trends Over Time')\n",
    "# plt.grid(True)\n",
    "# plt.legend()\n",
    "\n",
    "# # Step 3: Save the plot\n",
    "# plt.savefig('sales_trends.png')\n",
    "# plt.show()"
   ]
  },
  {
   "cell_type": "markdown",
   "metadata": {},
   "source": [
    "## Scoring and Subject Points\n",
    "### Task 1: NumPy Linear Algebra\n",
    "- Matrix creation: **1 point**\n",
    "- Determinant calculation: **2 points**\n",
    "- Invertibility check: **1 point**\n",
    "- Inverse calculation: **2 points**\n",
    "\n",
    "### Task 2: Pandas Data Analysis\n",
    "- Reading CSV: **1 point**\n",
    "- Grouping and summing: **2 points**\n",
    "- Sorting and finding top 3: **2 points**\n",
    "\n",
    "### Task 3: Matplotlib Data Visualization\n",
    "- Plot creation: **2 points**\n",
    "- Customization (labels, grid, title): **2 points**\n",
    "- Saving the plot: **1 point**\n"
   ]
  }
 ],
 "metadata": {
  "kernelspec": {
   "display_name": "base",
   "language": "python",
   "name": "python3"
  },
  "language_info": {
   "codemirror_mode": {
    "name": "ipython",
    "version": 3
   },
   "file_extension": ".py",
   "mimetype": "text/x-python",
   "name": "python",
   "nbconvert_exporter": "python",
   "pygments_lexer": "ipython3",
   "version": "3.12.5"
  }
 },
 "nbformat": 4,
 "nbformat_minor": 2
}
